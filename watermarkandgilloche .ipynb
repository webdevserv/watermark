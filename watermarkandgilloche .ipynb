{
  "nbformat": 4,
  "nbformat_minor": 0,
  "metadata": {
    "colab": {
      "provenance": []
    },
    "kernelspec": {
      "name": "python3",
      "display_name": "Python 3"
    },
    "language_info": {
      "name": "python"
    }
  },
  "cells": [
    {
      "cell_type": "code",
      "source": [
        "#Developed by github WebDevServ + AI Prompting**"
      ],
      "metadata": {
        "id": "Q0VWQey3midM"
      },
      "execution_count": null,
      "outputs": []
    },
    {
      "cell_type": "code",
      "source": [
        "from google.colab import drive\n",
        "drive.mount('/content/drive')"
      ],
      "metadata": {
        "id": "muPQ3EQ4rjJj"
      },
      "execution_count": null,
      "outputs": []
    },
    {
      "cell_type": "code",
      "source": [
        "import os\n",
        "os.chdir('/content/')\n",
        "!rm -r '/content/MyImages'\n",
        "!mkdir '/content/MyImages'"
      ],
      "metadata": {
        "id": "xG1L3Zop4ltT",
        "colab": {
          "base_uri": "https://localhost:8080/"
        },
        "outputId": "6165c8a8-c5e4-41f2-f2e0-afce5c185574"
      },
      "execution_count": 2,
      "outputs": [
        {
          "output_type": "stream",
          "name": "stdout",
          "text": [
            "rm: cannot remove '/content/MyImages': No such file or directory\n"
          ]
        }
      ]
    },
    {
      "cell_type": "code",
      "source": [
        "import os\n",
        "os.chdir('/content/')\n",
        "!rm -r '/content/MyResults'\n",
        "!mkdir '/content/MyResults'"
      ],
      "metadata": {
        "id": "azRDkYyw4mja"
      },
      "execution_count": 8,
      "outputs": []
    },
    {
      "cell_type": "code",
      "source": [
        "#set of images stamped with watermark and Guilloché patternnimport\n",
        "import os\n",
        "from PIL import Image\n",
        "\n",
        "def apply_opacity(image_path, opacity):\n",
        "    \"\"\"Adjusts opacity of an image and returns a new image.\"\"\"\n",
        "    img = Image.open(image_path).convert(\"RGBA\")\n",
        "    alpha = img.split()[3].point(lambda p: int(p * (opacity / 100)))\n",
        "    img.putalpha(alpha)\n",
        "    return img\n",
        "\n",
        "# Define folder paths\n",
        "input_folder = \"/content/MyImages\"\n",
        "output_folder = \"/content/MyResults\"\n",
        "\n",
        "# Get list of images in MyImages folder\n",
        "image_files = sorted([f for f in os.listdir(input_folder) if f.endswith((\".png\", \".jpg\", \".jpeg\"))])\n",
        "\n",
        "# Process each image\n",
        "for idx, image_file in enumerate(image_files, start=1):\n",
        "    main_image = Image.open(os.path.join(input_folder, image_file)).convert(\"RGBA\").resize((1024, 1024))\n",
        "\n",
        "    watermark = apply_opacity(\"/content/watermark.png\", 30)  # 30% opacity\n",
        "    pattern = apply_opacity(\"/content/pattern.png\", 17)  # 30% opacity\n",
        "\n",
        "    # Resize pattern to 250px width while maintaining aspect ratio\n",
        "    pattern_width = 250\n",
        "    pattern_height = int(pattern.height * (pattern_width / pattern.width))  # Preserve aspect ratio\n",
        "    pattern = pattern.resize((pattern_width, pattern_height))\n",
        "\n",
        "    # Resize watermark to 400px width while maintaining aspect ratio\n",
        "    watermark_width = 400\n",
        "    watermark_height = int(watermark.height * (watermark_width / watermark.width))\n",
        "    watermark = watermark.resize((watermark_width, watermark_height))\n",
        "\n",
        "    # Create a copy of the main image to overlay elements\n",
        "    final_image = main_image.copy()\n",
        "\n",
        "    # Overlay pattern (top left, behind watermark)\n",
        "    final_image.paste(pattern, (10, 10), pattern)\n",
        "\n",
        "    # Overlay watermark (bottom right)\n",
        "    final_image.paste(watermark, (1024 - watermark_width - 10, 1024 - watermark_height - 10), watermark)\n",
        "\n",
        "    # Save final image with the naming pattern (1w.png, 2w.png, etc.)\n",
        "    output_filename = f\"{idx}w.png\"\n",
        "    final_image.save(os.path.join(output_folder, output_filename))\n",
        "\n",
        "print(\"✅ Batch processing complete! All images saved in MyResults.\")\n"
      ],
      "metadata": {
        "colab": {
          "base_uri": "https://localhost:8080/"
        },
        "id": "YrIOuqcG2Lsy",
        "outputId": "5eb6b573-7ed9-48e8-f7d8-2e26d7712b92"
      },
      "execution_count": 7,
      "outputs": [
        {
          "output_type": "stream",
          "name": "stdout",
          "text": [
            "✅ Batch processing complete! All images saved in MyResults.\n"
          ]
        }
      ]
    },
    {
      "cell_type": "code",
      "source": [
        "#one image any size\n",
        "import os\n",
        "from PIL import Image\n",
        "\n",
        "def apply_opacity(image_path, opacity):\n",
        "    \"\"\"Adjusts opacity of an image and returns a new image.\"\"\"\n",
        "    img = Image.open(image_path).convert(\"RGBA\")\n",
        "    alpha = img.split()[3].point(lambda p: int(p * (opacity / 100)))\n",
        "    img.putalpha(alpha)\n",
        "    return img\n",
        "\n",
        "def resize_image(image, max_size=(1024, 1024)):\n",
        "    \"\"\"Resizes an image while preserving aspect ratio.\"\"\"\n",
        "    image.thumbnail(max_size, Image.Resampling.LANCZOS)\n",
        "    return image\n",
        "\n",
        "# Define folder paths\n",
        "input_folder = \"/content/MyImages\"\n",
        "output_folder = \"/content/MyResults\"\n",
        "\n",
        "# Ensure output folder exists\n",
        "os.makedirs(output_folder, exist_ok=True)\n",
        "\n",
        "# Get list of images in MyImages folder\n",
        "image_files = sorted([f for f in os.listdir(input_folder) if f.lower().endswith((\".png\", \".jpg\", \".jpeg\"))])\n",
        "\n",
        "# Process each image\n",
        "if not image_files:\n",
        "    print(f\"⚠️ No image files found in '{input_folder}'.\")\n",
        "else:\n",
        "    for idx, image_file in enumerate(image_files, start=1):\n",
        "        image_path = os.path.join(input_folder, image_file)\n",
        "        main_image = Image.open(image_path).convert(\"RGBA\")\n",
        "        main_image = resize_image(main_image)  # Resize while keeping aspect ratio\n",
        "\n",
        "        img_width, img_height = main_image.size  # Get resized dimensions\n",
        "\n",
        "        # Adjust watermark size dynamically based on image size\n",
        "        watermark = apply_opacity(\"/content/watermark.png\", 30)  # 30% opacity\n",
        "        watermark_width = int(img_width * 0.4)  # 40% of image width\n",
        "        watermark_height = int(watermark.height * (watermark_width / watermark.width))  # Maintain aspect ratio\n",
        "        watermark = watermark.resize((watermark_width, watermark_height))\n",
        "\n",
        "        # Adjust pattern size dynamically based on image size\n",
        "        pattern = apply_opacity(\"/content/pattern.png\", 17)  # 17% opacity\n",
        "        pattern_width = int(img_width * 0.25)  # 25% of image width\n",
        "        pattern_height = int(pattern.height * (pattern_width / pattern.width))  # Maintain aspect ratio\n",
        "        pattern = pattern.resize((pattern_width, pattern_height))\n",
        "\n",
        "        # Overlay pattern (top left, behind watermark)\n",
        "        final_image = main_image.copy()\n",
        "        final_image.paste(pattern, (10, 10), pattern)\n",
        "\n",
        "        # Overlay watermark (bottom right)\n",
        "        final_image.paste(watermark, (img_width - watermark_width - 10, img_height - watermark_height - 10), watermark)\n",
        "\n",
        "        # Save final image with the naming pattern (1w.png, 2w.png, etc.)\n",
        "        output_filename = f\"{idx}w.png\"\n",
        "        final_image.save(os.path.join(output_folder, output_filename))\n",
        "\n",
        "    print(f\"✅ Batch processing complete! {len(image_files)} images saved in '{output_folder}'.\")\n"
      ],
      "metadata": {
        "colab": {
          "base_uri": "https://localhost:8080/"
        },
        "id": "OozUBusljRTZ",
        "outputId": "6d1adfe8-08cf-49ad-d178-264ed7d39b1c"
      },
      "execution_count": 9,
      "outputs": [
        {
          "output_type": "stream",
          "name": "stdout",
          "text": [
            "✅ Batch processing complete! 1 images saved in '/content/MyResults'.\n"
          ]
        }
      ]
    },
    {
      "cell_type": "code",
      "source": [],
      "metadata": {
        "id": "mELWmSFE5qza"
      },
      "execution_count": null,
      "outputs": []
    },
    {
      "cell_type": "code",
      "source": [
        "# Zip the files\n",
        "!zip -r /content/MyResults/images.zip /content/MyResults/*.*\n",
        "\n",
        "# Download the zip file\n",
        "from google.colab import files\n",
        "files.download('/content/MyResults/images.zip')"
      ],
      "metadata": {
        "colab": {
          "base_uri": "https://localhost:8080/",
          "height": 199
        },
        "id": "6KOL7U4uFia3",
        "outputId": "d51ae402-f4f3-4964-81b1-8878b76508dc"
      },
      "execution_count": null,
      "outputs": [
        {
          "output_type": "stream",
          "name": "stdout",
          "text": [
            "updating: content/MyResults/10w.png (deflated 0%)\n",
            "updating: content/MyResults/1w.png (deflated 0%)\n",
            "updating: content/MyResults/2w.png (deflated 0%)\n",
            "updating: content/MyResults/3w.png (deflated 0%)\n",
            "updating: content/MyResults/4w.png (deflated 0%)\n",
            "updating: content/MyResults/5w.png (deflated 0%)\n",
            "updating: content/MyResults/6w.png (deflated 0%)\n",
            "updating: content/MyResults/7w.png (deflated 0%)\n",
            "updating: content/MyResults/8w.png (deflated 0%)\n",
            "updating: content/MyResults/9w.png (deflated 0%)\n"
          ]
        },
        {
          "output_type": "display_data",
          "data": {
            "text/plain": [
              "<IPython.core.display.Javascript object>"
            ],
            "application/javascript": [
              "\n",
              "    async function download(id, filename, size) {\n",
              "      if (!google.colab.kernel.accessAllowed) {\n",
              "        return;\n",
              "      }\n",
              "      const div = document.createElement('div');\n",
              "      const label = document.createElement('label');\n",
              "      label.textContent = `Downloading \"${filename}\": `;\n",
              "      div.appendChild(label);\n",
              "      const progress = document.createElement('progress');\n",
              "      progress.max = size;\n",
              "      div.appendChild(progress);\n",
              "      document.body.appendChild(div);\n",
              "\n",
              "      const buffers = [];\n",
              "      let downloaded = 0;\n",
              "\n",
              "      const channel = await google.colab.kernel.comms.open(id);\n",
              "      // Send a message to notify the kernel that we're ready.\n",
              "      channel.send({})\n",
              "\n",
              "      for await (const message of channel.messages) {\n",
              "        // Send a message to notify the kernel that we're ready.\n",
              "        channel.send({})\n",
              "        if (message.buffers) {\n",
              "          for (const buffer of message.buffers) {\n",
              "            buffers.push(buffer);\n",
              "            downloaded += buffer.byteLength;\n",
              "            progress.value = downloaded;\n",
              "          }\n",
              "        }\n",
              "      }\n",
              "      const blob = new Blob(buffers, {type: 'application/binary'});\n",
              "      const a = document.createElement('a');\n",
              "      a.href = window.URL.createObjectURL(blob);\n",
              "      a.download = filename;\n",
              "      div.appendChild(a);\n",
              "      a.click();\n",
              "      div.remove();\n",
              "    }\n",
              "  "
            ]
          },
          "metadata": {}
        },
        {
          "output_type": "display_data",
          "data": {
            "text/plain": [
              "<IPython.core.display.Javascript object>"
            ],
            "application/javascript": [
              "download(\"download_19714a6b-8bdd-4e97-82fb-9d4933e08fd7\", \"images.zip\", 47540222)"
            ]
          },
          "metadata": {}
        }
      ]
    }
  ]
}